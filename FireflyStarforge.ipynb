{
 "cells": [
  {
   "cell_type": "code",
   "execution_count": 1,
   "metadata": {},
   "outputs": [
    {
     "name": "stdout",
     "output_type": "stream",
     "text": [
      "JSONdir: /home/mike/STARFORGEData_1553 -- is not a sub-directory of firefly/static/data. \n",
      "This may produce confusing or inoperable results. As such, we will create a symlink for you when you  dumpToJSON.\n",
      "Loading ptype 5\n",
      "Centering on particles within 121.33 kpc\n",
      "Centering on particles within 4.51 kpc\n",
      "Centering on particles within 0.45 kpc\n",
      "Loading ptype 0\n"
     ]
    },
    {
     "name": "stderr",
     "output_type": "stream",
     "text": [
      "/home/mike/anaconda3/lib/python3.8/site-packages/firefly-2.0.6-py3.8.egg/firefly/data_reader/FIREreader.py:202: RuntimeWarning: invalid value encountered in true_divide\n",
      "  vcom = (np.sum(snapdict['Velocities'][rmask] *\n"
     ]
    },
    {
     "name": "stdout",
     "output_type": "stream",
     "text": [
      "Outputting: Gas - 2269477/22694772 particles - 2 tracked fields\n",
      "Outputting: Stars - 1728/1728 particles - 2 tracked fields\n",
      "Waiting up to 10 seconds for background Firefly server to startdone! Your server is available at - http://localhost:5000\n"
     ]
    }
   ],
   "source": [
    "# Import Firefly API\n",
    "import firefly\n",
    "from firefly.data_reader import STARFORGEreader\n",
    "\n",
    "# The simple reader only needs the snapshot location\n",
    "reader = STARFORGEreader(\n",
    "    '/home/mike/code/firefly_starforge/snapdir_1553',\n",
    ")\n",
    "# Spawn a server to host the visualization\n",
    "from Firefly.server import spawnFireflyServer\n",
    "process = spawnFireflyServer()"
   ]
  },
  {
   "cell_type": "code",
   "execution_count": null,
   "metadata": {},
   "outputs": [],
   "source": []
  }
 ],
 "metadata": {
  "kernelspec": {
   "display_name": "Python 3",
   "language": "python",
   "name": "python3"
  },
  "language_info": {
   "codemirror_mode": {
    "name": "ipython",
    "version": 3
   },
   "file_extension": ".py",
   "mimetype": "text/x-python",
   "name": "python",
   "nbconvert_exporter": "python",
   "pygments_lexer": "ipython3",
   "version": "3.8.8"
  }
 },
 "nbformat": 4,
 "nbformat_minor": 4
}
